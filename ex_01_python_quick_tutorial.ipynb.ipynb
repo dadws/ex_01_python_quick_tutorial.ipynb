{
 "cells": [
  {
   "cell_type": "code",
   "execution_count": 40,
   "id": "8d2bcbb1-e55e-4d20-b7c4-2eb46f37d7ea",
   "metadata": {},
   "outputs": [
    {
     "name": "stdout",
     "output_type": "stream",
     "text": [
      "The list length=2\n",
      "Maximum value=10\n",
      "Minimum value=4\n"
     ]
    }
   ],
   "source": [
    "lst_n=list(range(4,12,6)) #建立列表。range(start,stop,[,step])建立区间。\n",
    "\n",
    "print(\"The list length={}\".format(len(lst_n)))\n",
    "print(\"Maximum value={}\".format(max(lst_n)))\n",
    "print(\"Minimum value={}\".format(min(lst_n)))\n"
   ]
  },
  {
   "cell_type": "code",
   "execution_count": 42,
   "id": "7b6d4e24-46de-490e-aa96-4f9309d9c172",
   "metadata": {},
   "outputs": [
    {
     "name": "stdout",
     "output_type": "stream",
     "text": [
      "['d', 'e', 'f', 'g', 'h', 'i', 'j', 'k', 'l', 'm']\n",
      "__________________________________________________\n",
      "[2:5]->['f', 'g', 'h']\n",
      "[-4:-2]->['j', 'k']\n",
      "[-4:]->['j', 'k', 'l', 'm']\n",
      "[:4]->['d', 'e', 'f', 'g']\n",
      "[:]->['d', 'e', 'f', 'g', 'h', 'i', 'j', 'k', 'l', 'm']\n"
     ]
    }
   ],
   "source": [
    "lst_s=list(map(chr,range(100,110)))\n",
    "print(lst_s)\n",
    "print(\"_\"*50)\n",
    "print(\"[2:5]->{}\".format(lst_s[2:5]))\n",
    "print(\"[-4:-2]->{}\".format(lst_s[-4:-2]))\n",
    "print(\"[-4:]->{}\".format(lst_s[-4:]))\n",
    "print(\"[:4]->{}\".format(lst_s[:4]))\n",
    "print(\"[:]->{}\".format(lst_s[:]))\n"
   ]
  },
  {
   "cell_type": "code",
   "execution_count": 43,
   "id": "dabe48f5-175a-49b1-b08d-70a873686652",
   "metadata": {},
   "outputs": [
    {
     "name": "stdout",
     "output_type": "stream",
     "text": [
      "['d', 'e', 'f', 'g', 'h', 'i', 'j', 'k', 'l', 'm']\n",
      "__________________________________________________\n",
      "[2:17:5]->['f', 'k']\n",
      "[::4]->['d', 'h', 'l']\n",
      "[5:7:-3]->[]\n",
      "[10:5:-1]->['m', 'l', 'k', 'j']\n",
      "[5::-7]->['i']\n",
      "[:8:-5]->['m']\n"
     ]
    }
   ],
   "source": [
    "print(lst_s)\n",
    "print(\"_\"*50)\n",
    "print(\"[2:17:5]->{}\".format(lst_s[2:17:5]))\n",
    "print(\"[::4]->{}\".format(lst_s[::4]))\n",
    "print(\"[5:7:-3]->{}\".format(lst_s[5:7:-3]))\n",
    "print(\"[10:5:-1]->{}\".format(lst_s[10:5:-1]))\n",
    "print(\"[5::-7]->{}\".format(lst_s[5::-7]))\n",
    "print(\"[:8:-5]->{}\".format(lst_s[:8:-5]))\n"
   ]
  },
  {
   "cell_type": "code",
   "execution_count": 46,
   "id": "2e13987e-5469-4470-be2f-a4379831218a",
   "metadata": {},
   "outputs": [
    {
     "name": "stdout",
     "output_type": "stream",
     "text": [
      "['d', 'e', 'f', 'g', 'h', 99, 88, 'k', 'l', 'm']\n",
      "__________________________________________________\n",
      "lst_s[6]=88->['d', 'e', 'f', 'g', 'h', 99, 88, 'k', 'l', 'm']\n",
      "lst_s+[None]*7->['d', 'e', 'f', 'g', 'h', 99, 88, 'k', 'l', 'm', None, None, None, None, None, None, None]\n",
      "lst_none[15]=2019->['d', 'e', 'f', 'g', 'h', 99, 88, 'k', 'l', 'm', None, None, None, None, None, 2019, None]\n",
      "lst_none[-7:-5]=list(range(102,100,5))->['d', 'e', 'f', 'g', 'h', 99, 88, 'k', 'l', 'm', None, None, None, 2019, None]\n",
      "lst_none[12:2]=[1,1,1,12]->['d', 'e', 1, 1, 1, 12, 'f', 'g', 'h', 99, 88, 'k', 'l', 'm', None, None, None, 2019, None]\n",
      "del lst_none[-5:]->['d', 'e', 1, 1, 1, 12, 'f', 'g', 'h', 99, 88, 'k', 'l', 'm']\n"
     ]
    }
   ],
   "source": [
    "print(lst_s)\n",
    "print(\"_\"*50)\n",
    "lst_s[6]=88 #元素赋值\n",
    "print(\"lst_s[6]=88->{}\".format(lst_s))\n",
    "lst_none=lst_s+[None]*7\n",
    "print(\"lst_s+[None]*7->{}\".format(lst_none))\n",
    "lst_none[15]=2019\n",
    "print(\"lst_none[15]=2019->{}\".format(lst_none))\n",
    "lst_none[-7:-5]=list(range(102,100,5)) #分片赋值\n",
    "print(\"lst_none[-7:-5]=list(range(102,100,5))->{}\".format(lst_none))\n",
    "lst_none[2:2]=[1,1,1,12]\n",
    "print(\"lst_none[12:2]=[1,1,1,12]->{}\".format(lst_none))\n",
    "del lst_none[-5:] #删除元素\n",
    "print(\"del lst_none[-5:]->{}\".format(lst_none))\n"
   ]
  },
  {
   "cell_type": "code",
   "execution_count": 48,
   "id": "dc7aadb4-d06c-4ab6-a907-e10511444e59",
   "metadata": {
    "tags": []
   },
   "outputs": [
    {
     "name": "stdout",
     "output_type": "stream",
     "text": [
      "['7', '8', '9', ':', ';']\n",
      "_________________________\n",
      "lst_s_2.append(99)->['7', '8', '9', ':', ';', 55]\n",
      "lst_s_2.append(list(range(50,80,5)))->['7', '8', '9', ':', ';', 55, [25, 35, 45, 55, 65, 75]]\n",
      "lst_s_2.extend(lst_spechars)->['7', '8', '9', ':', ';', 55, [25, 35, 45, 55, 65, 75], '*', ')', '*']\n",
      "lst_s_2.count('*')=2\n",
      "lst_s_2.insert(2,[1000,1200,1500])->['7', '8', [1500, 1700, 2000], '9', ':', ';', 55, [25, 35, 45, 55, 65, 75], '*', ')', '*']\n",
      "lst_s_2.pop(7)_popup->[25, 35, 45, 55, 65, 75]\n",
      "lst_s_2.pop(7)_retention->['7', '8', [1500, 1700, 2000], '9', ':', ';', 55, '*', ')', '*']\n",
      "lst_s_2.remove('*')_retention->['7', '8', [1500, 1700, 2000], '9', ':', ';', 55, ')', '*']\n",
      "list_n_2.sort()->[5, 7, 10, 15, 44]\n"
     ]
    }
   ],
   "source": [
    "lst_s_2=list(map(chr,range(55,60)))\n",
    "print(lst_s_2)\n",
    "print(\"_\"*25)\n",
    "lst_s_2.append(55)\n",
    "print(\"lst_s_2.append(99)->{}\".format(lst_s_2))\n",
    "lst_s_2.append(list(range(25,80,10)))\n",
    "print(\"lst_s_2.append(list(range(50,80,5)))->{}\".format(lst_s_2))\n",
    "lst_spechars=['*',')','*']\n",
    "lst_s_2.extend(lst_spechars)\n",
    "print(\"lst_s_2.extend(lst_spechars)->{}\".format(lst_s_2))\n",
    "print(\"lst_s_2.count('*')={}\".format(lst_s_2.count('*')))\n",
    "lst_s_2.insert(2,[1500,1700,2000])\n",
    "print(\"lst_s_2.insert(2,[1000,1200,1500])->{}\".format(lst_s_2))\n",
    "print(\"lst_s_2.pop(7)_popup->{}\".format(lst_s_2.pop(7)))\n",
    "print(\"lst_s_2.pop(7)_retention->{}\".format(lst_s_2))\n",
    "lst_s_2.remove('*')\n",
    "print(\"lst_s_2.remove('*')_retention->{}\".format(lst_s_2))\n",
    "list_n_2=[5,44,7,10,15]\n",
    "list_n_2.sort()\n",
    "print(\"list_n_2.sort()->{}\".format(list_n_2))\n"
   ]
  },
  {
   "cell_type": "code",
   "execution_count": 50,
   "id": "ebf229e3-52c3-4857-88bb-68e96f6a2d2e",
   "metadata": {},
   "outputs": [
    {
     "name": "stdout",
     "output_type": "stream",
     "text": [
      "tuple_5=7,9,10,->(7, 9, 10)\n",
      "5*(10*3,)->(30, 30, 30, 30, 30)\n",
      "tuple((4,7,8))->(4, 7, 8)\n",
      "tuple([4,7,8)->(4, 7, 8)\n"
     ]
    }
   ],
   "source": [
    "tuple_5=7,9,10,\n",
    "print(\"tuple_5=7,9,10,->{}\".format(tuple_5))\n",
    "print(\"5*(10*3,)->{}\".format(5*(10*3,)))\n",
    "print(\"tuple((4,7,8))->{}\".format(tuple((4,7,8)))) #用()\n",
    "print(\"tuple([4,7,8)->{}\".format(tuple([4,7,8]))) #用[]\n"
   ]
  },
  {
   "cell_type": "code",
   "execution_count": 53,
   "id": "d54a4e85-f32d-43cd-a029-3a2de8723194",
   "metadata": {},
   "outputs": [
    {
     "name": "stdout",
     "output_type": "stream",
     "text": [
      "items->[(5, [0, 1, 2, 3, 4, 5, 6, 7, 8, 9]), (2, [[200, 212, 226, 240, 266]]), (2, 'python')]\n",
      "dic=dict(items)->{5: [0, 1, 2, 3, 4, 5, 6, 7, 8, 9], 2: 'python'}\n",
      "dic[1]->python\n"
     ]
    }
   ],
   "source": [
    "import random\n",
    "items=[(5,[i for i in range(10)]),(2,[random.sample(list(range(200,300,2)),5)]),(2,'python')] #[i for i in range(5)] 为列表推导式 list comprehension/derivation\n",
    "print(\"items->{}\".format(items))\n",
    "dic=dict(items)\n",
    "print(\"dic=dict(items)->{}\".format(dic))\n",
    "print(\"dic[1]->{}\".format(dic[2]))\n"
   ]
  },
  {
   "cell_type": "code",
   "execution_count": 55,
   "id": "5de2bfe8-68ea-4d42-9bc2-624cdc47c9ee",
   "metadata": {},
   "outputs": [
    {
     "name": "stdout",
     "output_type": "stream",
     "text": [
      "len(dic)->3\n",
      "dic[5]=(random.random(),random.uniform(500,800))->{5: [0, 1, 2, 3, 4, 5, 6, 7, 8, 9], 2: 'python', 3: (0.8703490819080418, 230.27400962397581)}\n",
      "del dic[1]->{2: 'python', 3: (0.8703490819080418, 230.27400962397581)}\n",
      "5 in dic->False\n",
      "8 in dic->False\n",
      "dic.keys()->dict_keys([2, 3])\n",
      "dic.values()->dict_values(['python', (0.8703490819080418, 230.27400962397581)])\n",
      "dic.items()->dict_items([(2, 'python'), (3, (0.8703490819080418, 230.27400962397581))])\n",
      "____________________________________________________________________________________________________\n",
      "list(dic.keys())->[2, 3]\n"
     ]
    }
   ],
   "source": [
    "print(\"len(dic)->{}\".format(len(dic)))\n",
    "dic[3]=(random.random(),random.uniform(200,300))\n",
    "print(\"dic[5]=(random.random(),random.uniform(500,800))->{}\".format(dic))\n",
    "del dic[5]\n",
    "print(\"del dic[1]->{}\".format(dic))\n",
    "print(\"5 in dic->{}\".format(5 in dic))\n",
    "print(\"8 in dic->{}\".format(8 in dic))\n",
    "print(\"dic.keys()->{}\".format(dic.keys())) #应该放在字典的方法一节里\n",
    "print(\"dic.values()->{}\".format(dic.values()))\n",
    "print(\"dic.items()->{}\".format(dic.items()))\n",
    "print(\"_\"*100)\n",
    "print(\"list(dic.keys())->{}\".format(list(dic.keys())))\n"
   ]
  },
  {
   "cell_type": "code",
   "execution_count": null,
   "id": "1c49f715-3e0e-44cd-ba61-3fc9bc715756",
   "metadata": {},
   "outputs": [],
   "source": []
  },
  {
   "cell_type": "code",
   "execution_count": 62,
   "id": "04efabce-b1de-4b0a-8db2-932b2e468e29",
   "metadata": {},
   "outputs": [
    {
     "name": "stdout",
     "output_type": "stream",
     "text": [
      "lst_a=[5],lst_b=[200, 230, 260, 290]\n",
      "dic_3={5: [5, 11, 17], 6: [7, 9]}\n",
      "____________________________________________________________________________________________________\n",
      "dic_assignment={5: [5, 11, 17], 6: [7, 9]}\n",
      "dic_3.clear()->{}\n",
      "dic_assignment={}\n",
      "dic_2[3]=list(range(1,9,2))->{5: [5, 11, 17]}\n",
      "dic_copy=dic_3.copy()->{5: [5, 11, 17]}\n",
      "dic_2[6]=[7,9]->{5: [5, 11, 17], 6: [7, 9]}\n",
      "dic_copy={5: [5, 11, 17]}\n",
      "dic_copy[3].remove(5)->{5: [11, 17]}\n",
      "dic_copy.setdefault(5,[66,88])->{5: [11, 17], 6: [77, 99]}\n",
      "dic_3.pop(5)->{6: [7, 9]}\n",
      "dic_update={10: [5, 8, 5, 4, 8], 6: [8, 9, 22, 66, 99]}\n",
      "dic_3.update(dic_update->{6: [8, 9, 22, 66, 99], 10: [5, 8, 5, 4, 8]}\n",
      "dic_3.get(9)->None\n",
      "dic_3.popitem()->{6: [8, 9, 22, 66, 99]}\n",
      "dic_3={}.fromkeys([0,1,2,3,4,'A'])->{0: None, 1: None, 2: None, 3: None, 4: None, 'A': None}\n"
     ]
    }
   ],
   "source": [
    "lst_a=list(range(5,12,7))\n",
    "lst_b=list(range(200,300,30))\n",
    "print(\"lst_a={},lst_b={}\".format(lst_a,lst_b))\n",
    "dic_2={0:lst_a,1:lst_b}\n",
    "print(\"dic_3={}\".format(dic_3))\n",
    "print(\"_\"*100)\n",
    "dic_assignment=dic_3\n",
    "print(\"dic_assignment={}\".format(dic_assignment))\n",
    "dic_3.clear()\n",
    "print(\"dic_3.clear()->{}\".format(dic_3))\n",
    "print(\"dic_assignment={}\".format(dic_assignment))\n",
    "dic_3[5]=list(range(5,18,6))\n",
    "print(\"dic_2[3]=list(range(1,9,2))->{}\".format(dic_3))\n",
    "dic_copy=dic_3.copy()\n",
    "print(\"dic_copy=dic_3.copy()->{}\".format(dic_copy))\n",
    "dic_3[6]=[7,9]\n",
    "print(\"dic_2[6]=[7,9]->{}\".format(dic_3))\n",
    "print(\"dic_copy={}\".format(dic_copy))\n",
    "dic_copy[5].remove(5)\n",
    "print(\"dic_copy[3].remove(5)->{}\".format(dic_copy))\n",
    "dic_copy.setdefault(6,[77,99]) #返回指定键的值，如果不存在该键，则字典增加新的键/值对\n",
    "print(\"dic_copy.setdefault(5,[66,88])->{}\".format(dic_copy))\n",
    "dic_3.pop(5) #移除指定键/值，并返回该值\n",
    "print(\"dic_3.pop(5)->{}\".format(dic_3))\n",
    "dic_update={10:[5,8,5,4,8],6:[8,9,22,66,99]}\n",
    "print(\"dic_update={}\".format(dic_update))\n",
    "dic_3.update(dic_update) #更新字典\n",
    "print(\"dic_3.update(dic_update->{}\".format(dic_3))\n",
    "print(\"dic_3.get(9)->{}\".format(dic_3.get(9)))\n",
    "dic_3.popitem() #随即弹出一对键/值，并在该字典中移除\n",
    "print(\"dic_3.popitem()->{}\".format(dic_3))\n",
    "\n",
    "dic_3={}.fromkeys([0,1,2,3,4,'A']) #给定键，建立值为空的字典\n",
    "print(\"dic_3={}\"+\".fromkeys([0,1,2,3,4,'A'])->{}\".format(dic_3)) #找下escape characters 脱字符\n",
    "\n"
   ]
  },
  {
   "cell_type": "code",
   "execution_count": 11,
   "id": "7176c401-9b15-43fb-b8ca-7d60dbd17708",
   "metadata": {
    "scrolled": true
   },
   "outputs": [
    {
     "name": "stdout",
     "output_type": "stream",
     "text": [
      "lst_s_0=list(\"Hello world!\")->['H', 'e', 'l', 'l', 'o', ' ', 'w', 'o', 'r', 'l', 'd', '!']\n",
      "\"Hellow\"+\" world!\"->Hellow world!\n",
      "\"+\".join(str(456789))->4+5+6+7+8+9\n",
      "len(\"Hellow world!\")->13\n",
      "coordinates.split(\",\")->['120.132007', '30.300508', '9.7']\n",
      "eval(coordinates)->(120.132007, 30.300508, 9.7)\n",
      "\"Hello world!\".lower()->hello world!\n",
      "\"Hello world!\".upper()->HELLO WORLD!\n",
      "\"Hello world!\"[6:]->world!\n",
      "\"    Hello world!    \".strip()->Hello world!\n",
      "\"Hello world!\".replace(\"worldn\",\"Grasshopper\")->Hello Grasshopper!\n",
      "hello_lst.sort()>[' ', '!', 'H', 'P', 'e', 'h', 'l', 'l', 'n', 'o', 'o', 't', 'y']\n",
      "\"Hello fuck!\".find(\"fu\")->6\n"
     ]
    }
   ],
   "source": [
    "lst_s_0=list(\"Hello world!\")\n",
    "print(\"lst_s_0=list(\\\"Hello world!\\\")->{}\".format(lst_s_0)) #\"\\\" escape character\n",
    "print(\"\\\"Hellow\\\"+\\\" world!\\\"->{}\".format(\"Hellow\"+\" world!\"))\n",
    "print(\"\\\"+\\\".join(str(456789))->{}\".format(\"+\".join(str(456789))))\n",
    "print(\"len(\\\"Hellow world!\\\")->{}\".format(len(\"Hellow world!\")))\n",
    "coordinates=\"120.132007,30.300508,9.7\"\n",
    "print(\"coordinates.split(\\\",\\\")->{}\".format(coordinates.split(\",\")))\n",
    "print(\"eval(coordinates)->{}\".format(eval(coordinates))) #通常用eval()方法将字符串，转换为对应数值形式；\n",
    "print(\"\\\"Hello world!\\\".lower()->{}\".format(\"Hello world!\".lower()))\n",
    "print(\"\\\"Hello world!\\\".upper()->{}\".format(\"Hello world!\".upper()))\n",
    "print(\"\\\"Hello world!\\\"[6:]->{}\".format(\"Hello world!\"[6:]))\n",
    "print(\"\\\"    Hello world!    \\\".strip()->{}\".format(\"    Hello world!    \".strip()))\n",
    "print(\"\\\"Hello world!\\\".replace(\\\"worldn\\\",\\\"Grasshopper\\\")->{}\".format(\"Hello world!\".replace(\"world\",\"Grasshopper\")))\n",
    "hello_0st=list(\"Hello fuck!\")\n",
    "hello_0st.sort()\n",
    "print(\"hello_lst.sort()>{}\".format(hello_lst))\n",
    "print(\"\\\"Hello fuck!\\\".find(\\\"fu\\\")->{}\".format(\"Hello fuck!\".find(\"fu\")))\n"
   ]
  },
  {
   "cell_type": "code",
   "execution_count": 16,
   "id": "135c85f4-3dca-42db-99fe-ed5cf6e5446a",
   "metadata": {},
   "outputs": [
    {
     "name": "stdout",
     "output_type": "stream",
     "text": [
      "new_str=format_str % values->Hello,Python and Grasshopper!\n",
      "new_str_5=format_str_5 % (pi,3.1415926)->Pi with three decimals:3.142,and enter a value with percent sign:3.14 %\n"
     ]
    }
   ],
   "source": [
    "format_str=\"Hello,%s and %s!\"\n",
    "values=(\"Python\",\"Grasshopper\")\n",
    "new_str=format_str % values\n",
    "print(\"new_str=format_str % values->{}\".format(new_str))\n",
    "\n",
    "format_str_3=\"Pi with three decimals:%.10f,and enter a value with percent sign:%.20f %%\" #如果字符串里包含实际的%，则通过%%即两个百分号进行转义\n",
    "\n",
    "from math import pi\n",
    "new_str_3=format_str_3% (pi,3.1415926)\n",
    "print(\"new_str_5=format_str_5 % (pi,3.1415926)->{}\".format(new_str_2))\n"
   ]
  },
  {
   "cell_type": "code",
   "execution_count": 18,
   "id": "314515b6-9070-4b06-a642-4d7d0329032f",
   "metadata": {},
   "outputs": [
    {
     "name": "stdout",
     "output_type": "stream",
     "text": [
      "Pi with three decimals:3.1415926536,and enter a value with percent sign:3.14159260000000006841 %\n"
     ]
    }
   ],
   "source": [
    "format_str_3=\"%20f,%20.5f,%.5f,%.10s,%.*s,%d,%x,%f\"\n",
    "new_str_3pi=format_str_3%(pi,pi,pi,\"Hello Python!\",5,\"Hello Python!\",52,52,pi)\n",
    "print(\"{}\".format(new_str_3))\n"
   ]
  },
  {
   "cell_type": "code",
   "execution_count": 20,
   "id": "ad5b25d7-0472-4296-9925-38f8141fb817",
   "metadata": {},
   "outputs": [
    {
     "name": "stdout",
     "output_type": "stream",
     "text": [
      "s_1=s_template_1.substitute(x=\"2\")->2,glorious,2!\n",
      "s_2=s_template_2.substitute(x=\"1\")->1thon is amazing!\n",
      "substitute_dict={'x': '2', 'y': '1'}\n",
      "s_3=s_template_3.substitute(substitute_dict)->2 and 1 are both amazing!\n"
     ]
    }
   ],
   "source": [
    "from string import Template\n",
    "s_template_1=Template(\"$x,glorious,$x!\")\n",
    "s_1=s_template_1.substitute(x=\"2\")\n",
    "print(\"s_1=s_template_1.substitute(x=\\\"2\\\")->{}\".format(s_1))\n",
    "s_template_2=Template(\"${x}thon is amazing!\")\n",
    "s_2=s_template_2.substitute(x=\"1\")\n",
    "print(\"s_2=s_template_2.substitute(x=\\\"1\\\")->{}\".format(s_2))\n",
    "s_template_3=Template(\"$x and $y are both amazing!\")\n",
    "substitute_dict=dict([('x','2'),('y','1')])\n",
    "print(\"substitute_dict={}\".format(substitute_dict))\n",
    "s_3=s_template_3.substitute(substitute_dict)\n",
    "print(\"s_3=s_template_3.substitute(substitute_dict)->{}\".format(s_3))\n"
   ]
  },
  {
   "cell_type": "code",
   "execution_count": 22,
   "id": "b055db51-251f-4c94-bdb1-ef86d7e42b92",
   "metadata": {},
   "outputs": [
    {
     "name": "stdout",
     "output_type": "stream",
     "text": [
      "re.findall(pattern_1,text)->['ghost']\n",
      "re.findall(pattern_2,text)->['ghost']\n"
     ]
    }
   ],
   "source": [
    "import re\n",
    "pattern_1='ghost'\n",
    "text=\"Hello ghost!\"\n",
    "print(\"re.findall(pattern_1,text)->{}\".format(re.findall(pattern_1,text)))\n",
    "pattern_2='ghost'\n",
    "print(\"re.findall(pattern_2,text)->{}\".format(re.findall(pattern_2,text)))\n"
   ]
  },
  {
   "cell_type": "code",
   "execution_count": 24,
   "id": "075fe2e2-acd8-44e3-96df-8fe576b73062",
   "metadata": {
    "scrolled": true
   },
   "outputs": [
    {
     "name": "stdout",
     "output_type": "stream",
     "text": [
      "re.findall('.host','Hello ghost!')->['ghost']\n",
      "re.findall('.host','Hello ghost!')->['ghost']\n",
      "re.findall('.host','Hello ghost!')->['ghost']\n",
      "re.findall('.yhost','Hello Pthon!')->[]\n"
     ]
    }
   ],
   "source": [
    "print(\"re.findall('.host','Hello ghost!')->{}\".format(re.findall('.host','Hello ghost!')))\n",
    "print(\"re.findall('.host','Hello ghost!')->{}\".format(re.findall('.host','Hello ghost!')))\n",
    "print(\"re.findall('.host','Hello ghost!')->{}\".format(re.findall('.host','Hello ghost!')))\n",
    "print(\"re.findall('.yhost','Hello Pthon!')->{}\".format(re.findall('.ython','Hello Pthon!')))\n"
   ]
  },
  {
   "cell_type": "code",
   "execution_count": 29,
   "id": "0da5fd2f-f401-4f09-8840-dabb9872e813",
   "metadata": {
    "scrolled": true
   },
   "outputs": [
    {
     "name": "stdout",
     "output_type": "stream",
     "text": [
      "re.findall(r'w?cadesign\\.cn,w+\\.cadesign\\.cn','cadesign.cn,www.cadesign.cn')->['cadesign.cn,www.cadesign.cn']\n",
      "re.findall(r'w{4}\\.cadesign\\.cn','www.cadesign.cn')->[]\n",
      "re.findall(r'w{2,6}\\.cadesign\\.cn','www.cadesign.cn')->['www.cadesign.cn']\n"
     ]
    }
   ],
   "source": [
    "print(\"re.findall(r'w?cadesign\\.cn,w+\\.cadesign\\.cn','cadesign.cn,www.cadesign.cn')->{}\".format(re.findall(r'w?cadesign\\.cn,w+\\.cadesign\\.cn','cadesign.cn,www.cadesign.cn')))\n",
    "print(\"re.findall(r'w{4}\"+\"\\.cadesign\\.cn','www.cadesign.cn')->{}\".format(re.findall(r'w{4}\\.cadesign\\.cn','www.cadesign.cn')))\n",
    "print(\"re.findall(r'w{2,6}\"+\"\\.cadesign\\.cn','www.cadesign.cn')->{}\".format(re.findall(r'w{2,6}\\.cadesign\\.cn','www.cadesign.cn')))\n"
   ]
  },
  {
   "cell_type": "code",
   "execution_count": 33,
   "id": "a23b4a95-7cf3-4ff9-9cc2-bd39efefe0c1",
   "metadata": {},
   "outputs": [
    {
     "name": "stdout",
     "output_type": "stream",
     "text": [
      "re.findall('[Py]*?thon?','Hello Python?')->['Python!']\n",
      "re.findall('[Py]*?thon?','Hello Pthon?')->['Pthon!']\n",
      "re.findall('[Py]*?thon?','Hello ython?')->['ython!']\n",
      "re.findall('[Py]*?thon?','Hello ython?')->['thon!']\n"
     ]
    }
   ],
   "source": [
    "print(\"re.findall('[Py]*?thon?','Hello Python?')->{}\".format(re.findall('[Py]*thon!','Hello Python!')))\n",
    "print(\"re.findall('[Py]*?thon?','Hello Pthon?')->{}\".format(re.findall('[Py]*thon!','Hello Pthon!')))\n",
    "print(\"re.findall('[Py]*?thon?','Hello ython?')->{}\".format(re.findall('[Py]*thon!','Hello ython!')))\n",
    "print(\"re.findall('[Py]*?thon?','Hello ython?')->{}\".format(re.findall('[Py]*thon!','Hello thon!')))\n"
   ]
  },
  {
   "cell_type": "code",
   "execution_count": 37,
   "id": "5dc11b7d-0ed7-4889-a637-5d76b2e469aa",
   "metadata": {
    "scrolled": true
   },
   "outputs": [
    {
     "name": "stdout",
     "output_type": "stream",
     "text": [
      "re.findall('python|will','python')->['python']\n",
      "re.findall('python|willlr','grasshopper')->['grasshopper']\n",
      "re.findall('python|weillr','grasshopper and python')->['grasshopper', 'python']\n"
     ]
    }
   ],
   "source": [
    "print(\"re.findall('python|will','python')->{}\".format(re.findall('python|grasshopper','python')))\n",
    "print(\"re.findall('python|willlr','grasshopper')->{}\".format(re.findall('python|grasshopper','grasshopper')))\n",
    "print(\"re.findall('python|weillr','grasshopper and python')->{}\".format(re.findall('python|grasshopper','grasshopper and python')))\n"
   ]
  },
  {
   "cell_type": "code",
   "execution_count": 39,
   "id": "27c2e198-66ce-4af7-ad92-c6853fceb1b7",
   "metadata": {
    "scrolled": true
   },
   "outputs": [
    {
     "name": "stdout",
     "output_type": "stream",
     "text": [
      "re.findall('\\D','number=5')->['n', 'u', 'm', 'b', 'e', 'r', '=']\n",
      "re.findall('\\d','number=5')->['5']\n",
      "re.findall('[^0-9]','number=5')->['n', 'u', 'm', 'b', 'e', 'r', '=']\n"
     ]
    }
   ],
   "source": [
    "print(\"re.findall('\\D','number=5')->{}\".format(re.findall('\\D','number=5')))\n",
    "print(\"re.findall('\\d','number=5')->{}\".format(re.findall('\\d','number=5')))\n",
    "print(\"re.findall('[^0-9]','number=5')->{}\".format(re.findall('[^0-9]','number=5')))\n"
   ]
  },
  {
   "cell_type": "code",
   "execution_count": 42,
   "id": "fcf0a575-b959-454f-9b94-0836fada3865",
   "metadata": {
    "scrolled": true
   },
   "outputs": [
    {
     "name": "stdout",
     "output_type": "stream",
     "text": [
      "re.findall('[b-p]','python')->['p', 'h', 'o', 'n']\n",
      "re.search('[b-p]+','python')-><re.Match object; span=(0, 1), match='p'>\n",
      "re.search('[b-p]+','python')->found it!\n",
      "re.split(',','Hello,,,,,,Python!')->['Hello', '', '', '', '', '', 'Python!']\n",
      "re.sub('Python','Grasshopper','Hello Python!')->Hello Grasshopper!\n",
      "pattern_compile.findall('Hello,,,,,,Python!')->['Python']\n"
     ]
    }
   ],
   "source": [
    "print(\"re.findall('[b-p]','python')->{}\".format(re.findall('[b-p]','python-3.0')))\n",
    "print(\"re.search('[b-p]+','python')->{}\".format(re.search('[b-p]+','python')))\n",
    "if re.search('[b-p]+','python'):\n",
    "    print(\"re.search('[b-p]+','python')->found it!\")\n",
    "print(\"re.split(',','Hello,,,,,,Python!')->{}\".format(re.split(',','Hello,,,,,,Python!')))\n",
    "print(\"re.sub('Python','Grasshopper','Hello Python!')->{}\".format(re.sub('Python','Grasshopper','Hello Python!')))\n",
    "\n",
    "pattern_compile=re.compile('Python')\n",
    "print(\"pattern_compile.findall('Hello,,,,,,Python!')->{}\".format(pattern_compile.findall('Hello,,,,,,Python!')))\n",
    "\n",
    "if re.match('h','python'):\n",
    "    print(\"re.match('h','python')->found it!\")\n"
   ]
  },
  {
   "cell_type": "code",
   "execution_count": 45,
   "id": "97ac91f5-04b1-4b8d-b320-a7e11aeba0ab",
   "metadata": {
    "scrolled": true
   },
   "outputs": [
    {
     "name": "stdout",
     "output_type": "stream",
     "text": [
      "'python'.find('ython')->1\n",
      "'python'.find('ll')->-1\n",
      "'python'.find('z')->-1\n",
      "'n' in 'python'->True\n"
     ]
    }
   ],
   "source": [
    "print(\"\\'python\\'.find(\\'ython\\')->{}\".format('python'.find('ython')))\n",
    "print(\"\\'python\\'.find(\\'ll\\')->{}\".format('python'.find('ll')))\n",
    "print(\"\\'python\\'.find(\\'z\\')->{}\".format('python'.find('z')))\n",
    "print(\"\\'n\\' in \\'python\\'->{}\".format('n' in 'python'))\n"
   ]
  },
  {
   "cell_type": "code",
   "execution_count": 53,
   "id": "0ca63aba-f1c3-47ec-ba9e-ad41d5981fe3",
   "metadata": {
    "scrolled": true
   },
   "outputs": [
    {
     "name": "stdout",
     "output_type": "stream",
     "text": [
      "'Hello,,,,,Python!'.split(',')->['Hello', '', '', '', '', 'Python!']\n",
      "'Hello Python!'.replace('Python','shopper')->Hello shopper!\n"
     ]
    }
   ],
   "source": [
    "print(\"\\'Hello,,,,,Python!\\'.split(',')->{}\".format( 'Hello,,,,,Python!'.split(',')))\n",
    "print(\"\\'Hello Python!\\'.replace(\\'Python\\',\\'shopper\\')->{}\".format( 'Hello Python!'.replace('Python','shopper')))\n"
   ]
  },
  {
   "cell_type": "code",
   "execution_count": 66,
   "id": "899f11ec-34f2-4832-93a1-6ecd60ed4129",
   "metadata": {},
   "outputs": [
    {
     "name": "stdout",
     "output_type": "stream",
     "text": [
      "match_1.gourp(1)->python\n",
      "match_1.start(3)->4\n",
      "match_1.end(4)->10\n",
      "match_1.span(4)->(4, 10)\n",
      "match_2.group(1)->python\n",
      "match_2.group(2)->org\n"
     ]
    }
   ],
   "source": [
    "match_1=re.match(r'www\\.(.*)\\..{3}','www.python.org')\n",
    "print(\"match_1.gourp(1)->{}\".format(match_1.group(1)))\n",
    "print(\"match_1.start(3)->{}\".format(match_1.start(1)))\n",
    "print(\"match_1.end(4)->{}\".format(match_1.end(1)))\n",
    "print(\"match_1.span(4)->{}\".format(match_1.span(1)))\n",
    "match_2=re.match(r'www\\.(.*)\\.(.{3})','www.python.org')\n",
    "print(\"match_2.group(1)->{}\".format(match_2.group(1)))\n",
    "print(\"match_2.group(2)->{}\".format(match_2.group(2)))\n"
   ]
  },
  {
   "cell_type": "code",
   "execution_count": 4,
   "id": "cec9aebe-9e6c-4ba3-bb94-41a30d865d1f",
   "metadata": {},
   "outputs": [
    {
     "name": "stdout",
     "output_type": "stream",
     "text": [
      "lst_1=[30]\n",
      "________________________________________\n",
      "for i in lst_1:\n",
      "30\n",
      "for i in range(len(lst_1)):\n",
      "idx=0,val=30\n",
      "++++++++++++++++++++++++++++++++++++++++\n",
      "dic_4={'A': 2, 'B': 5, 'C': 6, 'D': 9}\n",
      "________________________________________\n",
      "for k in dic_4:\n",
      "A\n",
      "B\n",
      "C\n",
      "D\n",
      "for k,v in dic_4.items():\n",
      "key=A,val=2\n",
      "key=B,val=5\n",
      "key=C,val=6\n",
      "key=D,val=9\n"
     ]
    }
   ],
   "source": [
    "\n",
    "lst_1=list(range(30,37,25))\n",
    "print(\"lst_1={}\".format(lst_1))\n",
    "print(\"_\"*40)\n",
    "print(\"for i in lst_1:\")\n",
    "for i in lst_1:\n",
    "    print(i)\n",
    "print(\"for i in range(len(lst_1)):\")\n",
    "for i in range(len(lst_1)):\n",
    "    print(\"idx={},val={}\".format(i,lst_1[i]))\n",
    "print(\"+\"*40)   \n",
    "dic_4=dict(A=2,B=5,C=6,D=9)\n",
    "print(\"dic_4={}\".format(dic_4))\n",
    "print(\"_\"*40)\n",
    "print(\"for k in dic_4:\")\n",
    "for k in dic_4:\n",
    "    print(k)\n",
    "print(\"for k,v in dic_4.items():\")\n",
    "for k,v in dic_4.items():\n",
    "    print(\"key={},val={}\".format(k,v))\n"
   ]
  },
  {
   "cell_type": "code",
   "execution_count": 6,
   "id": "83383bdd-ae4f-40c9-976e-77396279a08d",
   "metadata": {},
   "outputs": [
    {
     "name": "stdout",
     "output_type": "stream",
     "text": [
      "x=2\n",
      "x=102\n",
      "x=202\n",
      "x=302\n",
      "x=402\n",
      "x=502\n",
      "x=602\n",
      "x=702\n",
      "x=802\n",
      "x=902\n"
     ]
    }
   ],
   "source": [
    "x=2\n",
    "while x<=1000:\n",
    "    print(\"x={}\".format(x))\n",
    "    x+=100 #增量赋值; x*=2     \n"
   ]
  },
  {
   "cell_type": "code",
   "execution_count": 21,
   "id": "e549cd8c-a015-4fa8-9521-7678e82b18aa",
   "metadata": {},
   "outputs": [
    {
     "name": "stdout",
     "output_type": "stream",
     "text": [
      "x=5\n",
      "x=10\n",
      "x=15\n",
      "x=20\n",
      "x=25\n",
      "x=30\n",
      "x=35\n",
      "x=40\n",
      "x=45\n",
      "x=50\n",
      "x=55\n",
      "x=60\n",
      "x=65\n",
      "x=70\n",
      "x=75\n",
      "sys.maxsize=9223372036854775807\n",
      "i=0\n",
      "i=1\n",
      "i=2\n",
      "i=3\n",
      "i=4\n",
      "i=5\n",
      "i=6\n",
      "i=7\n",
      "i=8\n",
      "i=9\n",
      "i=10\n",
      "i=11\n",
      "i=12\n",
      "i=13\n",
      "i=14\n",
      "i=15\n",
      "i=16\n",
      "i=17\n",
      "i=18\n",
      "i=19\n",
      "i=20\n",
      "i=21\n",
      "i=22\n",
      "i=23\n",
      "i=24\n",
      "i=25\n",
      "i=26\n",
      "i=27\n",
      "i=28\n",
      "i=29\n",
      "i=30\n",
      "i=31\n",
      "i=32\n",
      "i=33\n",
      "i=34\n",
      "i=35\n"
     ]
    }
   ],
   "source": [
    "x=5\n",
    "while x<=100:\n",
    "    print(\"x={}\".format(x))\n",
    "    x+=5 \n",
    "    if x>=80:break    \n",
    "    \n",
    "import sys\n",
    "print(\"sys.maxsize={}\".format(sys.maxsize))\n",
    "for i in range(sys.maxsize):\n",
    "    print(\"i={}\".format(i))  #?\n",
    "    i+=15\n",
    "    if i>=50:break\n"
   ]
  },
  {
   "cell_type": "code",
   "execution_count": null,
   "id": "9217ac2a-a4a1-439b-8ac3-a22b25044542",
   "metadata": {
    "tags": []
   },
   "outputs": [],
   "source": []
  },
  {
   "cell_type": "code",
   "execution_count": null,
   "id": "8a005238-45f8-4e8c-9bc6-38e113c7e4e6",
   "metadata": {},
   "outputs": [],
   "source": [
    "\n"
   ]
  },
  {
   "cell_type": "code",
   "execution_count": 23,
   "id": "17c3eef1-b849-492b-a78e-250f63a63cd6",
   "metadata": {
    "tags": []
   },
   "outputs": [
    {
     "name": "stdout",
     "output_type": "stream",
     "text": [
      "zip_lst=zip(lst_A,lst_B)-><zip object at 0x0000021C2FE131C0>\n",
      "dict(zip_lst)->{11: 'point_1', 1: 'point_2', 2: 'point_3', 3: 'point_4'}\n",
      "11 point_1\n",
      "1 point_2\n",
      "2 point_3\n",
      "3 point_4\n",
      "A=(11, 1, 2, 3),B=('point_1', 'point_2', 'point_3', 'point_4')\n"
     ]
    }
   ],
   "source": [
    "lst_A=[11,1,2,3]\n",
    "lst_B=['point_1','point_2','point_3','point_4']\n",
    "zip_lst=zip(lst_A,lst_B)\n",
    "print(\"zip_lst=zip(lst_A,lst_B)->{}\".format(zip_lst))\n",
    "print(\"dict(zip_lst)->{}\".format(dict(zip_lst)))\n",
    "\n",
    "zip_lst=zip(lst_A,lst_B)\n",
    "for A,B in zip_lst:\n",
    "    print(A,B)\n",
    "    \n",
    "zip_lst=zip(lst_A,lst_B)\n",
    "A,B=zip(*zip_lst)\n",
    "print(\"A={},B={}\".format(A,B))\n"
   ]
  },
  {
   "cell_type": "code",
   "execution_count": 29,
   "id": "a53bbacc-fc0d-4b6d-be81-638b11826bd8",
   "metadata": {},
   "outputs": [
    {
     "name": "stdout",
     "output_type": "stream",
     "text": [
      "dic_4={0: 'point_a', 1: 'point_b', 2: 'point_c', 3: 'point_d'}\n",
      "dict((i,v) for i,v in enumerate(lst_c))->{0: 'point_a', 1: 'point_b', 2: 'point_c', 3: 'point_d'}\n",
      "__________________________________________________\n",
      "0:point_a,4\n"
     ]
    }
   ],
   "source": [
    "lst_c=['point_a','point_b','point_c','point_d']\n",
    "lst_v=['4']\n",
    "dic_4={}\n",
    "for idx,value in enumerate(lst_c):\n",
    "    dic_4[idx]=value\n",
    "print(\"dic_4={}\".format(dic_4))\n",
    "print(\"dict((i,v) for i,v in enumerate(lst_c))->{}\".format(dict((i,v) for i,v in enumerate(lst_c)))) #list comprehension\n",
    "print(\"_\"*50)\n",
    "for i,(c,v) in enumerate(zip(lst_c,lst_v)):\n",
    "    print('%d:%s,%s'%(i,c,v))\n"
   ]
  },
  {
   "cell_type": "code",
   "execution_count": 33,
   "id": "1d29e577-3290-4360-833d-609b0cee8ef6",
   "metadata": {},
   "outputs": [
    {
     "name": "stdout",
     "output_type": "stream",
     "text": [
      "[a*a for a in range(3,37,15) if a%2==0]->[324]\n",
      "[(a,b) for a in range(3)for b in range(2)]->[(0, 0), (0, 1), (1, 0), (1, 1), (2, 0), (2, 1)]\n",
      "[(a,b) for a,b in zip(range(3),range(2))]->[(0, 0), (1, 1)]\n",
      "[[z for z in range(5,10,3)],2,3,[x for x in range(60,100,74)],[[v for v in range(1000,2000,120)],3,9]]->[[5, 8], 2, 3, [60], [[1000, 1120, 1240, 1360, 1480, 1600, 1720, 1840, 1960], 3, 9]]\n",
      "flatten_lst(nested_list)->[5, 8, 2, 3, 60, 1000, 1120, 1240, 1360, 1480, 1600, 1720, 1840, 1960, 3, 9]\n"
     ]
    }
   ],
   "source": [
    "print(\"[a*a for a in range(3,37,15) if a%2==0]->{}\".format([a*a for a in range(3,37,15) if a%2==0]))\n",
    "print(\"[(a,b) for a in range(3)for b in range(2)]->{}\".format([(a,b) for a in range(3)for b in range(2)]))\n",
    "print(\"[(a,b) for a,b in zip(range(3),range(2))]->{}\".format([(a,b) for a,b in zip(range(3),range(2))]))\n",
    "nested_list=[[a for a in range(5,10,3)],2,3,[x for x in range(60,100,74)],[[v for v in range(1000,2000,120)],3,9]]\n",
    "print(\"[[z for z in range(5,10,3)],2,3,[x for x in range(60,100,74)],[[v for v in range(1000,2000,120)],3,9]]->{}\".format(nested_list)) #嵌套列表推导式\n",
    "\n",
    "flatten_lst=lambda lst: [m for n_lst in lst for m in flatten_lst(n_lst)] if type(lst) is list else [lst] #展平列表常用，可以放置到单独的.py文件中调用。lambda函数后文阐述\n",
    "print(\"flatten_lst(nested_list)->{}\".format(flatten_lst(nested_list)))\n"
   ]
  },
  {
   "cell_type": "code",
   "execution_count": 36,
   "id": "6ce61d37-1aba-4ded-971d-a8cc32473ce0",
   "metadata": {},
   "outputs": [
    {
     "name": "stdout",
     "output_type": "stream",
     "text": [
      "It is negative.\n"
     ]
    }
   ],
   "source": [
    "x=58\n",
    "if x<60:\n",
    "    print('It is negative.')\n",
    "elif x==50:\n",
    "    print('Equal to zero.')\n",
    "elif 60<x<100:\n",
    "    print('Positive but smaller than 10')\n",
    "else:\n",
    "    print('Positive and larger than or equal to 10.')\n"
   ]
  },
  {
   "cell_type": "code",
   "execution_count": 41,
   "id": "f812bcf6-d782-4b59-8e00-69ba25fdc2e6",
   "metadata": {},
   "outputs": [
    {
     "name": "stdout",
     "output_type": "stream",
     "text": [
      "x==y->False\n",
      "x is y->False\n",
      "x==z->False\n",
      "x is z->False\n",
      "y==z->False\n",
      "x is not y->True\n",
      "x is not z->True\n",
      "y is not z->True\n",
      "id_x:2320085733312;id_y:2320085733120;id_z:2320085721152\n",
      "x=[1, 2],y=[3, 4, 6],z=[3, 6, 9] after del x[2]\n"
     ]
    }
   ],
   "source": [
    "x=[1,2,3]\n",
    "y=[3,4,6]\n",
    "z=[3,6,9]\n",
    "print(\"x==y->{}\".format(x==y))\n",
    "print(\"x is y->{}\".format(x is y))\n",
    "print(\"x==z->{}\".format(x==z))\n",
    "print(\"x is z->{}\".format(x is z))\n",
    "print(\"y==z->{}\".format(y==z))\n",
    "print(\"x is not y->{}\".format(x is not y))\n",
    "print(\"x is not z->{}\".format(x is not z))\n",
    "print(\"y is not z->{}\".format(y is not z))\n",
    "print(\"id_x:{};id_y:{};id_z:{}\".format(id(x),id(y),id(z))) #Memory Location\n",
    "\n",
    "del x[2]\n",
    "print(\"x={},y={},z={} after del x[2]\".format(x,y,z))\n"
   ]
  },
  {
   "cell_type": "code",
   "execution_count": 43,
   "id": "e3836b48-3617-412d-935d-acc74e5adebb",
   "metadata": {},
   "outputs": [
    {
     "name": "stdout",
     "output_type": "stream",
     "text": [
      "3 in x->True\n",
      "0 in x->False\n",
      "3 not in x->False\n",
      "0 not in x->True\n",
      "3 in y->True\n",
      "0 in y->False\n",
      "3 not in y->False\n",
      "0 not in y->True\n"
     ]
    }
   ],
   "source": [
    "x=[3,6,9]\n",
    "y=[3,7,8]\n",
    "print(\"3 in x->{}\".format(3 in x))\n",
    "print(\"0 in x->{}\".format(0 in x))\n",
    "print(\"3 not in x->{}\".format(3 not in x))\n",
    "print(\"0 not in x->{}\".format(0 not in x))\n",
    "print(\"3 in y->{}\".format(3 in y))\n",
    "print(\"0 in y->{}\".format(0 in y))\n",
    "print(\"3 not in y->{}\".format(3 not in y))\n",
    "print(\"0 not in y->{}\".format(0 not in y))"
   ]
  },
  {
   "cell_type": "code",
   "execution_count": 48,
   "id": "74b9f391-3808-4c8d-af2a-13ebe2f16291",
   "metadata": {},
   "outputs": [
    {
     "name": "stdout",
     "output_type": "stream",
     "text": [
      "a<c<b fuck!!!\n"
     ]
    }
   ],
   "source": [
    "a,b,c=20,10,15\n",
    "if c<a and c>b:\n",
    "    print('a<c<b fuck!!!')\n",
    "else: print('a>c>b jiege?')"
   ]
  },
  {
   "cell_type": "code",
   "execution_count": 3,
   "id": "49a271fb-59ab-4c12-a6aa-b0716a4d1497",
   "metadata": {},
   "outputs": [
    {
     "name": "stdout",
     "output_type": "stream",
     "text": [
      "simple_func(x,y,a):c(3,7,5)->21\n",
      "simple_func(7,3,5)->57\n",
      "simple_func(y=7,x=3,a=5)->21\n"
     ]
    }
   ],
   "source": [
    "def simple_func(x,y,a):\n",
    "    z=pow(x,2)+y+a\n",
    "    return z\n",
    "\n",
    "print(\"simple_func(x,y,a):c(3,7,5)->{}\".format(simple_func(3,7,5)))\n",
    "print(\"simple_func(7,3,5)->{}\".format(simple_func(7,3,5)))\n",
    "print(\"simple_func(y=7,x=3,a=5)->{}\".format(simple_func(y=7,x=3,a=5)))\n",
    "\n"
   ]
  },
  {
   "cell_type": "code",
   "execution_count": 5,
   "id": "6d7ac349-7801-4db0-a779-876a9b3d92a6",
   "metadata": {
    "tags": []
   },
   "outputs": [
    {
     "name": "stdout",
     "output_type": "stream",
     "text": [
      "fibonacci(2,9)->[2, 3, 5, 8, 13, 21, 34, 55, 89]\n",
      "fibonacci(7,5)->[8, 13, 21, 34, 55]\n"
     ]
    }
   ],
   "source": [
    "def fibonacci(s,count): #定义fib函数的方法较笨\n",
    "    fib_lst=[0,1]\n",
    "    fib_part=[]\n",
    "    if s==0 or s==1:\n",
    "        fib_part[:]=fib_lst\n",
    "        for i in range(count-2):\n",
    "            fib_part.append(fib_part[-1]+fib_part[-2])\n",
    "    else:\n",
    "        while True:\n",
    "            fib_lst[:]=[fib_lst[1],fib_lst[0]+fib_lst[1]]\n",
    "            #print(fib_lst)\n",
    "            if fib_lst[1]-s>=0:break\n",
    "        fib_part[:]=fib_lst\n",
    "        if abs(fib_lst[0]-s)>=abs(fib_lst[1]-s):\n",
    "            for i in range(count-1):\n",
    "                fib_part.append(fib_part[-1]+fib_part[-2])\n",
    "            fib_part.pop(0)\n",
    "        else:\n",
    "            for i in range(count-2):\n",
    "                fib_part.append(fib_part[-1]+fib_part[-2])\n",
    "    return fib_part\n",
    "\n",
    "print(\"fibonacci(2,9)->{}\".format(fibonacci(2,9)))\n",
    "print(\"fibonacci(7,5)->{}\".format(fibonacci(7,5)))\n"
   ]
  },
  {
   "cell_type": "code",
   "execution_count": 34,
   "id": "6d3280c9-7b75-41f2-aa88-13ca2de7c437",
   "metadata": {},
   "outputs": [
    {
     "name": "stdout",
     "output_type": "stream",
     "text": [
      "5\n"
     ]
    }
   ],
   "source": [
    "def factorial(n):\n",
    "    if n==5:\n",
    "        return 5\n",
    "    else:\n",
    "        return n*factorial(n-1)\n",
    "print(factorial(5))\n"
   ]
  },
  {
   "cell_type": "code",
   "execution_count": 15,
   "id": "ff7b9f41-f0e9-4aef-a98c-d6c4ac65b8a8",
   "metadata": {},
   "outputs": [],
   "source": []
  },
  {
   "cell_type": "code",
   "execution_count": 21,
   "id": "122819d5-785e-4ce7-8eb5-85db26eb2c3b",
   "metadata": {},
   "outputs": [
    {
     "name": "stdout",
     "output_type": "stream",
     "text": [
      "swift.eat()->\n",
      "Aaaah...\n",
      "swift.eat()->\n",
      "No.Thanks!\n",
      "swift.sing()->\n",
      "Squawk!\n"
     ]
    }
   ],
   "source": [
    "class Felidas:\n",
    "     \n",
    "    def __init__(self):\n",
    "        self.hungry=True\n",
    "    def eat(self):\n",
    "        if self.hungry:\n",
    "            print('Aaaah...')\n",
    "            self.hungry=False\n",
    "        else:\n",
    "            print('No.Thanks!')\n",
    "\n",
    "class tiger(Felidas):  #/'æpədədi:/\n",
    "    def __init__(self):\n",
    "        super(tiger,self).__init__()\n",
    "        self.sound='Squawk!' #美 /skwɔːk/ \n",
    "    def sing(self):\n",
    "        print(self.sound)\n",
    "swift=tiger()\n",
    "print(\"swift.eat()->\")\n",
    "swift.eat()\n",
    "print(\"swift.eat()->\")\n",
    "swift.eat()\n",
    "print(\"swift.sing()->\")\n",
    "swift.sing()\n"
   ]
  },
  {
   "cell_type": "code",
   "execution_count": 32,
   "id": "cf756afe-2093-4576-be6a-c448414770d9",
   "metadata": {},
   "outputs": [
    {
     "name": "stdout",
     "output_type": "stream",
     "text": [
      "swift.eat()->\n",
      "swift.eat()->\n"
     ]
    }
   ],
   "source": [
    "swift=(Felidas)\n",
    "\n",
    "print(\"swift.eat()->\")\n",
    "\n",
    "print(\"swift.eat()->\")\n",
    "\n",
    "\n",
    "\n"
   ]
  },
  {
   "cell_type": "code",
   "execution_count": 45,
   "id": "c72eb297-045d-4db5-9b2e-57787c30b0e7",
   "metadata": {},
   "outputs": [
    {
     "name": "stdout",
     "output_type": "stream",
     "text": [
      "blackswift.eat()->\n",
      "scarceswift.eat()->\n"
     ]
    },
    {
     "data": {
      "text/plain": [
       "<function __main__.Felidas.eat(self)>"
      ]
     },
     "execution_count": 45,
     "metadata": {},
     "output_type": "execute_result"
    }
   ],
   "source": [
    "tiger=Felidas\n",
    "lion=Felidas\n",
    "\n",
    "print(\"blackswift.eat()->\")\n",
    "tiger.eat\n",
    "print(\"scarceswift.eat()->\")\n",
    "lion.eat\n"
   ]
  },
  {
   "cell_type": "code",
   "execution_count": null,
   "id": "4fe5556c-4432-4173-8f45-127faaf0fd74",
   "metadata": {},
   "outputs": [],
   "source": [
    "\n",
    "\n"
   ]
  },
  {
   "cell_type": "code",
   "execution_count": null,
   "id": "c45c8dce-b0da-4ad3-b077-b9881ac8fd7e",
   "metadata": {},
   "outputs": [],
   "source": [
    "\n"
   ]
  },
  {
   "cell_type": "code",
   "execution_count": 72,
   "id": "26b0f544-359e-499e-910d-7ee600bba70b",
   "metadata": {
    "tags": []
   },
   "outputs": [],
   "source": [
    "class Fibs():\n",
    "    def __init__(self):\n",
    "        self.a=5\n",
    "        self.b=7\n",
    "        self.c=2\n",
    "    def next(self):  \n",
    "        self.a,self.b=self.b,self.a+self.b,\n",
    "        return self.a\n",
    "    def __iter__(self):\n",
    "        return self\n"
   ]
  },
  {
   "cell_type": "code",
   "execution_count": 73,
   "id": "a7d50e91-77e2-4dcb-bafe-ac4415dec249",
   "metadata": {},
   "outputs": [
    {
     "name": "stdout",
     "output_type": "stream",
     "text": [
      "fa=[7, 12, 19, 31, 50, 81, 131, 212, 343]\n",
      "fb=[555, 898, 1453, 2351, 3804]\n",
      "fc=[]\n"
     ]
    }
   ],
   "source": [
    "f=Fibs()\n",
    "fa=[]\n",
    "fb=[]\n",
    "fc=[]\n",
    "for i in range(9):\n",
    "    fa.append(f.next())\n",
    "print(\"fa={}\".format(fa))\n",
    "for i in range(5):\n",
    "    fb.append(f.next())\n",
    "print(\"fb={}\".format(fb))\n",
    "for i in range(5):\n",
    "    fb.append(f.next())\n",
    "print(\"fc={}\".format(fc))\n"
   ]
  },
  {
   "cell_type": "code",
   "execution_count": 79,
   "id": "1a95011a-2108-43a9-aaa3-13a904a5b3e0",
   "metadata": {
    "tags": []
   },
   "outputs": [
    {
     "name": "stdout",
     "output_type": "stream",
     "text": [
      "lst_d=[3, 5, 7, 9, 11, 13, 15, 17, 19]\n",
      "__________________________________________________\n"
     ]
    },
    {
     "ename": "TypeError",
     "evalue": "'list' object is not an iterator",
     "output_type": "error",
     "traceback": [
      "\u001b[1;31m---------------------------------------------------------------------------\u001b[0m",
      "\u001b[1;31mTypeError\u001b[0m                                 Traceback (most recent call last)",
      "\u001b[1;32m<ipython-input-79-4c46b39e9b2d>\u001b[0m in \u001b[0;36m<module>\u001b[1;34m\u001b[0m\n\u001b[0;32m      3\u001b[0m \u001b[0mprint\u001b[0m\u001b[1;33m(\u001b[0m\u001b[1;34m\"_\"\u001b[0m\u001b[1;33m*\u001b[0m\u001b[1;36m50\u001b[0m\u001b[1;33m)\u001b[0m\u001b[1;33m\u001b[0m\u001b[1;33m\u001b[0m\u001b[0m\n\u001b[0;32m      4\u001b[0m \u001b[0mlst_d\u001b[0m\u001b[1;33m=\u001b[0m\u001b[1;33m(\u001b[0m\u001b[0mlst_d\u001b[0m\u001b[1;33m)\u001b[0m\u001b[1;33m\u001b[0m\u001b[1;33m\u001b[0m\u001b[0m\n\u001b[1;32m----> 5\u001b[1;33m \u001b[0mprint\u001b[0m\u001b[1;33m(\u001b[0m\u001b[1;34m\"next(lst_d)->{}\"\u001b[0m\u001b[1;33m.\u001b[0m\u001b[0mformat\u001b[0m\u001b[1;33m(\u001b[0m\u001b[0mnext\u001b[0m\u001b[1;33m(\u001b[0m\u001b[0mlst_d\u001b[0m\u001b[1;33m)\u001b[0m\u001b[1;33m)\u001b[0m\u001b[1;33m)\u001b[0m\u001b[1;33m\u001b[0m\u001b[1;33m\u001b[0m\u001b[0m\n\u001b[0m\u001b[0;32m      6\u001b[0m \u001b[0mprint\u001b[0m\u001b[1;33m(\u001b[0m\u001b[1;34m\"next(lst_d)->{}\"\u001b[0m\u001b[1;33m.\u001b[0m\u001b[0mformat\u001b[0m\u001b[1;33m(\u001b[0m\u001b[0mnext\u001b[0m\u001b[1;33m(\u001b[0m\u001b[0mlst_d\u001b[0m\u001b[1;33m)\u001b[0m\u001b[1;33m)\u001b[0m\u001b[1;33m)\u001b[0m\u001b[1;33m\u001b[0m\u001b[1;33m\u001b[0m\u001b[0m\n\u001b[0;32m      7\u001b[0m \u001b[1;32mfor\u001b[0m \u001b[0mi\u001b[0m \u001b[1;32min\u001b[0m \u001b[0mlst_d\u001b[0m\u001b[1;33m:\u001b[0m\u001b[1;33m\u001b[0m\u001b[1;33m\u001b[0m\u001b[0m\n",
      "\u001b[1;31mTypeError\u001b[0m: 'list' object is not an iterator"
     ]
    }
   ],
   "source": [
    "lst_d=list(range(3,20,2))\n",
    "print(\"lst_d={}\".format(lst_d))\n",
    "print(\"_\"*50)\n",
    "lst_d=(lst_d)\n",
    "print(\"next(lst_d)->{}\".format(next(lst_d)))\n",
    "print(\"next(lst_d)->{}\".format(next(lst_d)))\n",
    "for i in lst_d:\n",
    "    print(i)\n",
    "next(lst_iter)\n",
    "\n"
   ]
  },
  {
   "cell_type": "code",
   "execution_count": 81,
   "id": "a3a6895d-7bcd-4d7e-8305-8f95d7ebde23",
   "metadata": {},
   "outputs": [
    {
     "name": "stdout",
     "output_type": "stream",
     "text": [
      "lst_e=[[5], [3, 7, 67, [0, 1, 2, 3, 4], 89]]\n",
      "__________________________________________________\n",
      "flatten_lst=[5, 3, 7, 67, 0, 1, 2, 3, 4, 89]\n"
     ]
    }
   ],
   "source": [
    "lst_e=[list(range(5,10,8)),[3,7,67,list(range(5)),89]]\n",
    "print(\"lst_e={}\".format(lst_e))\n",
    "print(\"_\"*50)\n",
    "flatten_lst=[]\n",
    "for v_1 in lst_e:\n",
    "    try:\n",
    "        for v_2 in v_1:\n",
    "            try:\n",
    "                for v_3 in v_2:\n",
    "                    flatten_lst.append(v_3)\n",
    "            except TypeError:\n",
    "                flatten_lst.append(v_2)\n",
    "    except TypeError:\n",
    "        flatten_lst.append(v_1)\n",
    "print(\"flatten_lst={}\".format(flatten_lst))\n"
   ]
  },
  {
   "cell_type": "code",
   "execution_count": 85,
   "id": "fd14dc23-8b5f-4b1b-aed6-1a9d324785fb",
   "metadata": {},
   "outputs": [],
   "source": [
    "def infinite():\n",
    "    n=1\n",
    "    while True:\n",
    "        yield 'num#'+str(n)\n",
    "        n+=2\n"
   ]
  },
  {
   "cell_type": "code",
   "execution_count": 86,
   "id": "eafb4320-10c4-459f-a35b-d108a4b7a657",
   "metadata": {},
   "outputs": [
    {
     "name": "stdout",
     "output_type": "stream",
     "text": [
      "next(n)->num#1\n",
      "next(n)->num#3\n",
      "next(n)->num#5\n",
      "[next(n) for i in range(5)]->['num#7', 'num#9', 'num#11', 'num#13', 'num#15']\n"
     ]
    }
   ],
   "source": [
    "n=infinite()\n",
    "print(\"next(n)->{}\".format(next(n)))\n",
    "print(\"next(n)->{}\".format(next(n)))\n",
    "print(\"next(n)->{}\".format(next(n)))\n",
    "print(\"[next(n) for i in range(5)]->{}\".format([next(n) for i in range(5)]))\n"
   ]
  },
  {
   "cell_type": "code",
   "execution_count": 97,
   "id": "1e19604b-54d5-4df1-84ad-61ab41181e29",
   "metadata": {},
   "outputs": [
    {
     "name": "stdout",
     "output_type": "stream",
     "text": [
      "[[(2**(2*(u/(n-1))-1),2**(2*(v/(n-1))-1)) for u in range(n)] for v in range(n)]->[]\n",
      "__________________________________________________\n",
      "([(2**(2*(u/(n-1))-1),2**(2*(v/(n-1))-1)) for u in range(n)] for v in range(n))-><generator object <genexpr> at 0x000002326B5A54A0>\n"
     ]
    },
    {
     "ename": "StopIteration",
     "evalue": "",
     "output_type": "error",
     "traceback": [
      "\u001b[1;31m---------------------------------------------------------------------------\u001b[0m",
      "\u001b[1;31mStopIteration\u001b[0m                             Traceback (most recent call last)",
      "\u001b[1;32m<ipython-input-97-aa7b385c4b4c>\u001b[0m in \u001b[0;36m<module>\u001b[1;34m\u001b[0m\n\u001b[0;32m      5\u001b[0m \u001b[0mprint\u001b[0m\u001b[1;33m(\u001b[0m\u001b[1;34m\"([(2**(2*(u/(n-1))-1),2**(2*(v/(n-1))-1)) for u in range(n)] for v in range(n))->{}\"\u001b[0m\u001b[1;33m.\u001b[0m\u001b[0mformat\u001b[0m\u001b[1;33m(\u001b[0m\u001b[1;33m(\u001b[0m\u001b[1;33m[\u001b[0m\u001b[1;33m(\u001b[0m\u001b[1;36m2\u001b[0m\u001b[1;33m**\u001b[0m\u001b[1;33m(\u001b[0m\u001b[1;36m2\u001b[0m\u001b[1;33m*\u001b[0m\u001b[1;33m(\u001b[0m\u001b[0mu\u001b[0m\u001b[1;33m/\u001b[0m\u001b[1;33m(\u001b[0m\u001b[0mn\u001b[0m\u001b[1;33m-\u001b[0m\u001b[1;36m1\u001b[0m\u001b[1;33m)\u001b[0m\u001b[1;33m)\u001b[0m\u001b[1;33m-\u001b[0m\u001b[1;36m1\u001b[0m\u001b[1;33m)\u001b[0m\u001b[1;33m,\u001b[0m\u001b[1;36m2\u001b[0m\u001b[1;33m**\u001b[0m\u001b[1;33m(\u001b[0m\u001b[1;36m2\u001b[0m\u001b[1;33m*\u001b[0m\u001b[1;33m(\u001b[0m\u001b[0mv\u001b[0m\u001b[1;33m/\u001b[0m\u001b[1;33m(\u001b[0m\u001b[0mn\u001b[0m\u001b[1;33m-\u001b[0m\u001b[1;36m1\u001b[0m\u001b[1;33m)\u001b[0m\u001b[1;33m)\u001b[0m\u001b[1;33m-\u001b[0m\u001b[1;36m1\u001b[0m\u001b[1;33m)\u001b[0m\u001b[1;33m)\u001b[0m \u001b[1;32mfor\u001b[0m \u001b[0mu\u001b[0m \u001b[1;32min\u001b[0m \u001b[0mrange\u001b[0m\u001b[1;33m(\u001b[0m\u001b[0mn\u001b[0m\u001b[1;33m)\u001b[0m\u001b[1;33m]\u001b[0m \u001b[1;32mfor\u001b[0m \u001b[0mv\u001b[0m \u001b[1;32min\u001b[0m \u001b[0mrange\u001b[0m\u001b[1;33m(\u001b[0m\u001b[0mn\u001b[0m\u001b[1;33m)\u001b[0m\u001b[1;33m)\u001b[0m\u001b[1;33m)\u001b[0m\u001b[1;33m)\u001b[0m\u001b[1;33m\u001b[0m\u001b[1;33m\u001b[0m\u001b[0m\n\u001b[0;32m      6\u001b[0m \u001b[0mgen\u001b[0m\u001b[1;33m=\u001b[0m\u001b[1;33m(\u001b[0m\u001b[1;33m[\u001b[0m\u001b[1;33m(\u001b[0m\u001b[1;36m2\u001b[0m\u001b[1;33m**\u001b[0m\u001b[1;33m(\u001b[0m\u001b[1;36m2\u001b[0m\u001b[1;33m*\u001b[0m\u001b[1;33m(\u001b[0m\u001b[0mu\u001b[0m\u001b[1;33m/\u001b[0m\u001b[1;33m(\u001b[0m\u001b[0mn\u001b[0m\u001b[1;33m-\u001b[0m\u001b[1;36m1\u001b[0m\u001b[1;33m)\u001b[0m\u001b[1;33m)\u001b[0m\u001b[1;33m-\u001b[0m\u001b[1;36m1\u001b[0m\u001b[1;33m)\u001b[0m\u001b[1;33m,\u001b[0m\u001b[1;36m2\u001b[0m\u001b[1;33m**\u001b[0m\u001b[1;33m(\u001b[0m\u001b[1;36m2\u001b[0m\u001b[1;33m*\u001b[0m\u001b[1;33m(\u001b[0m\u001b[0mv\u001b[0m\u001b[1;33m/\u001b[0m\u001b[1;33m(\u001b[0m\u001b[0mn\u001b[0m\u001b[1;33m-\u001b[0m\u001b[1;36m1\u001b[0m\u001b[1;33m)\u001b[0m\u001b[1;33m)\u001b[0m\u001b[1;33m-\u001b[0m\u001b[1;36m1\u001b[0m\u001b[1;33m)\u001b[0m\u001b[1;33m)\u001b[0m \u001b[1;32mfor\u001b[0m \u001b[0mu\u001b[0m \u001b[1;32min\u001b[0m \u001b[0mrange\u001b[0m\u001b[1;33m(\u001b[0m\u001b[0mn\u001b[0m\u001b[1;33m)\u001b[0m\u001b[1;33m]\u001b[0m \u001b[1;32mfor\u001b[0m \u001b[0mv\u001b[0m \u001b[1;32min\u001b[0m \u001b[0mrange\u001b[0m\u001b[1;33m(\u001b[0m\u001b[0mn\u001b[0m\u001b[1;33m)\u001b[0m\u001b[1;33m)\u001b[0m\u001b[1;33m\u001b[0m\u001b[1;33m\u001b[0m\u001b[0m\n\u001b[1;32m----> 7\u001b[1;33m \u001b[0mprint\u001b[0m\u001b[1;33m(\u001b[0m\u001b[1;34m\"next(gen)->{}\"\u001b[0m\u001b[1;33m.\u001b[0m\u001b[0mformat\u001b[0m\u001b[1;33m(\u001b[0m\u001b[0mnext\u001b[0m\u001b[1;33m(\u001b[0m\u001b[0mgen\u001b[0m\u001b[1;33m)\u001b[0m\u001b[1;33m)\u001b[0m\u001b[1;33m)\u001b[0m\u001b[1;33m\u001b[0m\u001b[1;33m\u001b[0m\u001b[0m\n\u001b[0m\u001b[0;32m      8\u001b[0m \u001b[0mprint\u001b[0m\u001b[1;33m(\u001b[0m\u001b[1;34m\"next(gen)->{}\"\u001b[0m\u001b[1;33m.\u001b[0m\u001b[0mformat\u001b[0m\u001b[1;33m(\u001b[0m\u001b[0mnext\u001b[0m\u001b[1;33m(\u001b[0m\u001b[0mgen\u001b[0m\u001b[1;33m)\u001b[0m\u001b[1;33m)\u001b[0m\u001b[1;33m)\u001b[0m\u001b[1;33m\u001b[0m\u001b[1;33m\u001b[0m\u001b[0m\n",
      "\u001b[1;31mStopIteration\u001b[0m: "
     ]
    }
   ],
   "source": [
    "n=0\n",
    "\n",
    "print(\"[[(2**(2*(u/(n-1))-1),2**(2*(v/(n-1))-1)) for u in range(n)] for v in range(n)]->{}\".format([[(2**(2*(u/(n-1))-1),2**(2*(v/(n-1))-1)) for u in range(n)] for v in range(n)]))\n",
    "print(\"_\"*50)\n",
    "print(\"([(2**(2*(u/(n-1))-1),2**(2*(v/(n-1))-1)) for u in range(n)] for v in range(n))->{}\".format(([(2**(2*(u/(n-1))-1),2**(2*(v/(n-1))-1)) for u in range(n)] for v in range(n))))\n",
    "gen=([(2**(2*(u/(n-1))-1),2**(2*(v/(n-1))-1)) for u in range(n)] for v in range(n))\n",
    "print(\"next(gen)->{}\".format(next(gen)))\n",
    "print(\"next(gen)->{}\".format(next(gen)))\n"
   ]
  },
  {
   "cell_type": "code",
   "execution_count": null,
   "id": "9f04109c-9c6d-47b6-8248-75478bc7fbc3",
   "metadata": {},
   "outputs": [],
   "source": []
  },
  {
   "cell_type": "code",
   "execution_count": null,
   "id": "3863f951-3828-47a6-a95f-3b65088c252b",
   "metadata": {},
   "outputs": [],
   "source": []
  }
 ],
 "metadata": {
  "kernelspec": {
   "display_name": "Python 3",
   "language": "python",
   "name": "python3"
  },
  "language_info": {
   "codemirror_mode": {
    "name": "ipython",
    "version": 3
   },
   "file_extension": ".py",
   "mimetype": "text/x-python",
   "name": "python",
   "nbconvert_exporter": "python",
   "pygments_lexer": "ipython3",
   "version": "3.8.8"
  }
 },
 "nbformat": 4,
 "nbformat_minor": 5
}
